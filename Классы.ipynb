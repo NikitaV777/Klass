{
 "cells": [
  {
   "cell_type": "code",
   "execution_count": 2,
   "metadata": {},
   "outputs": [],
   "source": [
    "class Vehicles():\n",
    "    def __init__(self, wheels, speed, power):\n",
    "        self.wheels = wheels\n",
    "        self.speed = speed\n",
    "        self.power = power\n",
    "    \n",
    "    def desription_name(self):\n",
    "        desk = self.wheels + ' ' + self.speed + ' ' + self.power\n",
    "        return desk_title()\n",
    "    \n",
    "class Car():\n",
    "    def __init__(self, bikes, cars, buses, trucks):\n",
    "        self.bikes = bikes\n",
    "        self.cars = cars\n",
    "        self.buses = buses\n",
    "        self.trucks = trucks\n",
    "        \n",
    "class Google(Vehicles, Car):\n",
    "    def __init__(self, wheels, speed, power):\n",
    "        def __init__(self, bikes, cars, buses, trucks):\n",
    "            super(wheels, speed, power)\n",
    "            super(bikes, cars, buses, trucks)\n",
    "            \n",
    "class Holop(Vehicles, Car):\n",
    "     def __init__(self, wheels, speed, power):\n",
    "        def __init__(self, bikes, cars, buses, trucks):\n",
    "            super(wheels, speed, power)\n",
    "            super(bikes, cars, buses, trucks)\n",
    "\n",
    "            \n",
    "    "
   ]
  },
  {
   "cell_type": "code",
   "execution_count": null,
   "metadata": {},
   "outputs": [],
   "source": []
  }
 ],
 "metadata": {
  "kernelspec": {
   "display_name": "Python 3",
   "language": "python",
   "name": "python3"
  },
  "language_info": {
   "codemirror_mode": {
    "name": "ipython",
    "version": 3
   },
   "file_extension": ".py",
   "mimetype": "text/x-python",
   "name": "python",
   "nbconvert_exporter": "python",
   "pygments_lexer": "ipython3",
   "version": "3.7.3"
  }
 },
 "nbformat": 4,
 "nbformat_minor": 2
}
